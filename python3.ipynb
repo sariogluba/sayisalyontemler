{
 "cells": [
  {
   "cell_type": "markdown",
   "metadata": {},
   "source": [
    "# Python 3\n",
    "\n",
    "Python internet sitesine [buradan](https://www.python.org/) ulaşabilirsiniz.\n",
    "\n",
    "## PEP\n",
    "\n",
    "Python İyileştirme Önerileri (Python Enhancement Proposals); Python dilinin resmi tavsiyelerinden, ilgili yönergelerden ve politikalardan oluşan bir dizi kayıttır. En meşhuru PEP8 Python dili ile kod yazım stili yönergesidir. PEP indeksine [buradan](https://www.python.org/dev/peps/) ulaşabilirsiniz.\n",
    "\n",
    "## Türkçe kaynak\n",
    "\n",
    "Python ile ilgili çok çeşitli bilgiye [linkteki](https://python-istihza.yazbel.com/) Türkçe kaynaktan ulaşabilirsiniz.\n",
    "\n",
    "## Video içerik\n",
    "\n",
    "Python ile ilgili videolara ulaşmak için [pyvideo.org](https://pyvideo.org/tag/numerical-methods/) adresini ziyaret edebilirsiniz."
   ]
  },
  {
   "cell_type": "markdown",
   "metadata": {},
   "source": []
  }
 ],
 "metadata": {
  "kernelspec": {
   "display_name": "Python 3",
   "language": "python",
   "name": "python3"
  },
  "language_info": {
   "codemirror_mode": {
    "name": "ipython",
    "version": 3
   },
   "file_extension": ".py",
   "mimetype": "text/x-python",
   "name": "python",
   "nbconvert_exporter": "python",
   "pygments_lexer": "ipython3",
   "version": "3.8.5"
  }
 },
 "nbformat": 4,
 "nbformat_minor": 4
}
