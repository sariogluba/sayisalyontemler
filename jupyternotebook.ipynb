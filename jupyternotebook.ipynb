{
 "cells": [
  {
   "cell_type": "markdown",
   "metadata": {},
   "source": [
    "<img src=\"https://jupyter.org/assets/jupyterpreview.png\" alt=\"Jupyter Notebook Logosu\" width=\"450\">\n",
    "\n",
    "\n",
    "# Jupyter Notebook\n",
    "\n",
    "Jupyter internet sitesine [buradan](https://jupyter.org/) ulaşabilirsiniz.\n",
    "\n",
    "## Jupyter  Notebook Eklentileri\n",
    "\n",
    "- [Execute time](https://jupyter-contrib-nbextensions.readthedocs.io/en/latest/nbextensions/execute_time/readme.html):Hücresel olarak çalıştırdığınız kodların çalışma sürelerini gösteren eklentidir. Kod optimizasyonu aşamasında oldukça faydalıdır.\n",
    "\n",
    "- [Calysto](https://github.com/Calysto/calysto): İngilizce Markdown için spell check yapmayı sağlar.\n",
    "\n",
    "- [Rise](https://github.com/damianavila/RISE): Notebooklarınızı hücre bazında slayt gösterisine çevirmenize yardımcı olarak efektif sunum hazırlamanıza olanak tanır.\n",
    "\n",
    "- [Scratchpad](https://github.com/minrk/nbextension-scratchpad): Verilerinizin doğruluğunu ikinci bir alanda denemek istediğinizde kullanırsınız.\n",
    "\n",
    "- [Jupyterthemes](https://github.com/dunovank/jupyter-themes): Tema değiştirmenize olanak sağlayan eklentidir."
   ]
  },
  {
   "cell_type": "code",
   "execution_count": null,
   "metadata": {},
   "outputs": [],
   "source": []
  }
 ],
 "metadata": {
  "kernelspec": {
   "display_name": "Python 3",
   "language": "python",
   "name": "python3"
  },
  "language_info": {
   "codemirror_mode": {
    "name": "ipython",
    "version": 3
   },
   "file_extension": ".py",
   "mimetype": "text/x-python",
   "name": "python",
   "nbconvert_exporter": "python",
   "pygments_lexer": "ipython3",
   "version": "3.8.5"
  }
 },
 "nbformat": 4,
 "nbformat_minor": 4
}
