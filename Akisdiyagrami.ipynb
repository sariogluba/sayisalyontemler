{
 "cells": [
  {
   "cell_type": "markdown",
   "metadata": {},
   "source": [
    "# Algoritma ve Akış Diyagramı\n",
    "\n",
    "Algoritma, belli bir problemi çözmek veya belirli bir amaca ulaşmak için yapılan sıralı ve sonlu işlemler bütünüdür. Akış diyagramı (Flowchart) ise algoritmayı simge ve semboller yardımıyla şema ile göstererek evrensel şekilde ifade etmektir. Algoritmalar bir programlama dili vasıtasıyla bilgisayarlar tarafından işletilirler.\n",
    "\n",
    "Artık çok iyi bildiğimiz ikinci dereceden ax² + bx + c = 0 biçiminde bir denklemin tüm köklerini bulmak için kullandığımız algoritma:\n",
    "\n",
    "**Adım 1:** Başla.\n",
    "\n",
    "**Adım 2:** a, b, c, D, x1, x2, rk ve sk değişkenlerini tanımla.\n",
    "\n",
    "**Adım 3:** Diskriminant değerini hesapla.\n",
    "\n",
    "$D ← b^2-4ac$\n",
    "\n",
    "**Adım 4:** Eğer D≥0\n",
    "\n",
    "x1 ← (-b+√D) / 2a\n",
    "\n",
    "x2 ← (-b-√D) / 2a\n",
    "\n",
    "değerlerini hesapla ve x1,x2 değişkenleri göster.\n",
    "\n",
    "Eğer D≥0 değilse,\n",
    "\n",
    "Reel kısım(rk) ve sanal kısmını(sk) hesapla.\n",
    "\n",
    "$ rk ← b / 2a $\n",
    "\n",
    "$ sk ← √ (D) / 2a $\n",
    "\n",
    "**Adım 5:** \"rk + sk\" ve \"rk - sk\" değerlerini göster.\n",
    "\n",
    "**Adım 6:** Dur.\n",
    "\n",
    "Bu algoritmanın akış diyagramı ise şöyle olacaktır.\n",
    "\n",
    "<br>\n",
    "<img src=\"images/akis_ornek.png\"  />\n",
    "<br>\n",
    "\n",
    "### İnternet tarayıcısı ile akış diyagramı çizmek \n",
    "\n",
    "Kendi tarayıcınız üzerinden akış diyagramı çizmek ve onu paylaşmak için [draw.io](https://app.diagrams.net/) uygulamasını kullanabilirsiniz.\n",
    "\n",
    "### Tablo elemanları\n",
    "\n",
    "Akış diyagramı içinde kullanılabilecek tablo elemanları ise şunlardır.\n",
    "\n",
    "<img src=\"images/algoritma-akış-şeması.jpg\"/>"
   ]
  },
  {
   "cell_type": "code",
   "execution_count": null,
   "metadata": {},
   "outputs": [],
   "source": []
  }
 ],
 "metadata": {
  "kernelspec": {
   "display_name": "Python 3",
   "language": "python",
   "name": "python3"
  },
  "language_info": {
   "codemirror_mode": {
    "name": "ipython",
    "version": 3
   },
   "file_extension": ".py",
   "mimetype": "text/x-python",
   "name": "python",
   "nbconvert_exporter": "python",
   "pygments_lexer": "ipython3",
   "version": "3.8.5"
  }
 },
 "nbformat": 4,
 "nbformat_minor": 4
}
